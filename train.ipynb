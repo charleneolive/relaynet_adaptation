{
 "cells": [
  {
   "cell_type": "markdown",
   "id": "under-belly",
   "metadata": {},
   "source": [
    "# Train Model"
   ]
  },
  {
   "cell_type": "code",
   "execution_count": 1,
   "id": "mounted-evanescence",
   "metadata": {},
   "outputs": [
    {
     "name": "stderr",
     "output_type": "stream",
     "text": [
      "/home2/ongz0070/.local/share/virtualenvs/relaynet-GEL98iGU/lib/python3.6/site-packages/torch/nn/_reduction.py:46: UserWarning: size_average and reduce args will be deprecated, please use reduction='mean' instead.\n",
      "  warnings.warn(warning.format(ret))\n"
     ]
    }
   ],
   "source": [
    "import numpy as np\n",
    "import os\n",
    "import yaml\n",
    "import matplotlib.pyplot as plt\n",
    "import torch\n",
    "from torchvision import transforms\n",
    "from torch.autograd import Variable\n",
    "from networks.data_utils import get_imdb_data\n",
    "from torch.utils.data import DataLoader, Dataset\n",
    "import random\n",
    "import torch.nn.functional as F\n",
    "from networks.relay_net import ReLayNet\n",
    "from networks.solver import Solver"
   ]
  },
  {
   "cell_type": "code",
   "execution_count": 2,
   "id": "married-kinase",
   "metadata": {},
   "outputs": [],
   "source": [
    "\n",
    "class RandomTransforms(object):\n",
    "    def __init__(self, height, width, layers, prob1=0.5, prob2=0.5, prob3 = 0.5, h_size= 490, w_size= 60):\n",
    "        self.height = height\n",
    "        self.width = width\n",
    "        self.layers = layers\n",
    "        self.prob = prob1\n",
    "        self.prob2 = prob2\n",
    "        self.prob3 = prob3\n",
    "        self.translate_prob = 0.5\n",
    "        self.h_size = h_size\n",
    "        self.w_size = w_size\n",
    "\n",
    "    def __call__(self, image, target, weight):\n",
    "        if random.random() < self.prob:\n",
    "\n",
    "            image = np.flip(image,1)\n",
    "            target = np.flip(target,1)\n",
    "            weight = np.flip(weight,1)\n",
    "            return image, target, weight\n",
    "        \n",
    "        if random.random()<self.prob2:\n",
    "\n",
    "            y,x,c = image.shape\n",
    "            startx = x//2 - self.w_size//2\n",
    "            starty = y//2 - self.h_size//2   \n",
    "            image = image[starty:starty+self.h_size, startx:startx+self.w_size, :].copy()\n",
    "            target = target[starty:starty+self.h_size, startx:startx+self.w_size, :].copy()\n",
    "            weight = weight[starty:starty+self.h_size, startx:startx+self.w_size].copy()\n",
    "            image = np.resize(image, (self.height,self.width,1))\n",
    "            target = np.resize(target, (self.height,self.width,self.layers))\n",
    "            weight = np.resize(weight, (self.height,self.width))\n",
    "            return image, target, weight\n",
    "            \n",
    "        if random.random()<self.prob3:\n",
    "\n",
    "            if random.random()<self.translate_prob:\n",
    "\n",
    "                pad_image = np.zeros(image.shape)\n",
    "                pad_target = np.zeros(target.shape)\n",
    "                pad_weight = np.zeros(weight.shape)\n",
    "                y,x,c = image.shape\n",
    "                startx = x//2 - self.w_size//2\n",
    "                image = image[:, startx:startx+self.w_size, :].copy()\n",
    "                pad_image[:,:image.shape[1],:] = image\n",
    "                target = target[:, startx:startx+self.w_size, :].copy()\n",
    "                pad_target[:,:image.shape[1],:] = target\n",
    "                weight = weight[:, startx:startx+self.w_size].copy()\n",
    "                weight[:,:image.shape[1]] = weight\n",
    "                \n",
    "                return pad_image, pad_target, pad_weight\n",
    "            else:\n",
    "\n",
    "                pad_image = np.zeros(image.shape)\n",
    "                pad_target = np.zeros(target.shape)\n",
    "                pad_weight = np.zeros(weight.shape)\n",
    "                y,x,c = image.shape\n",
    "                starty = y//2 - self.h_size//2 \n",
    "                image = image[starty:starty+self.h_size, :, :].copy()\n",
    "                pad_image[:image.shape[0],:,:] = image\n",
    "                target = target[starty:starty+self.h_size, :, :].copy()\n",
    "                pad_target[:image.shape[0],:,:] = target\n",
    "                weight = weight[starty:starty+self.h_size, :].copy()\n",
    "                pad_weight[:weight.shape[0],:] = weight\n",
    "                \n",
    "                return pad_image, pad_target, pad_weight\n",
    "        return image, target, weight\n",
    "                \n",
    "class ImdbData(Dataset):\n",
    "    \n",
    "    def __init__(self, config, X, y, W, transform):\n",
    "        self.X = X\n",
    "        self.y = y\n",
    "        self.w = W\n",
    "        self.height = config['general']['HEIGHT']\n",
    "        self.width = config['general']['WIDTH']\n",
    "        self.layers = config['general']['layers']\n",
    "        self.transform = transform(self.height, self.width, self.layers)\n",
    "\n",
    "    def __getitem__(self, index):\n",
    "        img = np.transpose(self.X[index], (1,2,0)) \n",
    "        label = np.transpose(self.y[index],(1,2,0))\n",
    "        weight = self.w[index]\n",
    "        if self.transform:\n",
    "\n",
    "            img, label, weight = self.transform(img, label, weight)\n",
    "\n",
    "        img = torch.from_numpy(img.copy()).float().permute(2,0,1)\n",
    "        label = torch.from_numpy(label.copy()).long().permute(2,0,1)\n",
    "        weight = torch.from_numpy(weight.copy()).float()\n",
    "    \n",
    "        return img, label, weight\n",
    "\n",
    "\n",
    "    def __len__(self):\n",
    "        return len(self.X)"
   ]
  },
  {
   "cell_type": "code",
   "execution_count": 3,
   "id": "gorgeous-reading",
   "metadata": {},
   "outputs": [],
   "source": [
    "with open( \"./train.yaml\") as file:\n",
    "    config = yaml.load(file, Loader=yaml.FullLoader)\n",
    "HEIGHT = config['general']['HEIGHT']\n",
    "WIDTH = config['general']['WIDTH']\n",
    "layers = config['general']['layers']\n",
    "exp_dir_name = config['filepaths']['exp_dir_name']\n",
    "\n",
    "model_path = config['filepaths']['model_path']\n",
    "data_dir = config['filepaths']['processed_data_path']\n",
    "param = config['param']\n",
    "\n",
    "train_images, train_labels, train_wmaps, val_images, val_labels, val_wmaps = get_imdb_data(data_dir)\n",
    "\n",
    "train_images2 = np.copy(np.expand_dims(train_images.reshape(-1,HEIGHT, WIDTH), axis = 1))\n",
    "train_labels2 = np.copy(train_labels.reshape(-1, layers, HEIGHT, WIDTH))\n",
    "train_wmaps2 = np.copy(train_wmaps.reshape(-1, HEIGHT, WIDTH))\n",
    "\n",
    "val_images2 = np.copy(np.expand_dims(val_images.reshape(-1,HEIGHT, WIDTH), axis = 1))\n",
    "val_labels2 = np.copy(val_labels.reshape(-1, layers, HEIGHT, WIDTH))\n",
    "val_wmaps2 = np.copy(val_wmaps.reshape(-1, HEIGHT, WIDTH))\n",
    "    \n"
   ]
  },
  {
   "cell_type": "code",
   "execution_count": 4,
   "id": "centered-windows",
   "metadata": {},
   "outputs": [],
   "source": [
    "train_dataset = ImdbData(config, train_images2, train_labels2, train_wmaps2, transform = RandomTransforms)\n",
    "val_dataset = ImdbData(config, val_images2, val_labels2, val_wmaps2, transform = RandomTransforms)\n"
   ]
  },
  {
   "cell_type": "code",
   "execution_count": 5,
   "id": "chicken-appeal",
   "metadata": {},
   "outputs": [
    {
     "name": "stdout",
     "output_type": "stream",
     "text": [
      "START TRAIN.\n"
     ]
    },
    {
     "name": "stderr",
     "output_type": "stream",
     "text": [
      "  0%|          | 3/1470 [00:00<02:50,  8.61it/s]"
     ]
    },
    {
     "name": "stdout",
     "output_type": "stream",
     "text": [
      "tensor(4.1091, device='cuda:0', grad_fn=<AddBackward0>)\n",
      "tensor(4.5328, device='cuda:0', grad_fn=<AddBackward0>)\n",
      "tensor(4.2815, device='cuda:0', grad_fn=<AddBackward0>)\n"
     ]
    },
    {
     "name": "stderr",
     "output_type": "stream",
     "text": [
      "  0%|          | 5/1470 [00:00<02:35,  9.41it/s]"
     ]
    },
    {
     "name": "stdout",
     "output_type": "stream",
     "text": [
      "tensor(3.9424, device='cuda:0', grad_fn=<AddBackward0>)\n",
      "tensor(3.7465, device='cuda:0', grad_fn=<AddBackward0>)\n",
      "tensor(3.5494, device='cuda:0', grad_fn=<AddBackward0>)\n"
     ]
    },
    {
     "name": "stderr",
     "output_type": "stream",
     "text": [
      "  1%|          | 9/1470 [00:00<02:14, 10.87it/s]"
     ]
    },
    {
     "name": "stdout",
     "output_type": "stream",
     "text": [
      "tensor(3.2880, device='cuda:0', grad_fn=<AddBackward0>)\n",
      "tensor(3.0603, device='cuda:0', grad_fn=<AddBackward0>)\n",
      "tensor(2.7805, device='cuda:0', grad_fn=<AddBackward0>)\n"
     ]
    },
    {
     "name": "stderr",
     "output_type": "stream",
     "text": [
      "  1%|          | 11/1470 [00:01<02:08, 11.37it/s]"
     ]
    },
    {
     "name": "stdout",
     "output_type": "stream",
     "text": [
      "tensor(2.2831, device='cuda:0', grad_fn=<AddBackward0>)\n",
      "tensor(2.6026, device='cuda:0', grad_fn=<AddBackward0>)\n",
      "tensor(2.2054, device='cuda:0', grad_fn=<AddBackward0>)\n"
     ]
    },
    {
     "name": "stderr",
     "output_type": "stream",
     "text": [
      "  1%|          | 15/1470 [00:01<01:59, 12.21it/s]"
     ]
    },
    {
     "name": "stdout",
     "output_type": "stream",
     "text": [
      "tensor(1.9537, device='cuda:0', grad_fn=<AddBackward0>)\n",
      "tensor(2.3023, device='cuda:0', grad_fn=<AddBackward0>)\n",
      "tensor(1.9117, device='cuda:0', grad_fn=<AddBackward0>)\n"
     ]
    },
    {
     "name": "stderr",
     "output_type": "stream",
     "text": [
      "  1%|          | 17/1470 [00:01<01:55, 12.54it/s]"
     ]
    },
    {
     "name": "stdout",
     "output_type": "stream",
     "text": [
      "tensor(1.7887, device='cuda:0', grad_fn=<AddBackward0>)\n",
      "tensor(1.9411, device='cuda:0', grad_fn=<AddBackward0>)\n",
      "tensor(1.6191, device='cuda:0', grad_fn=<AddBackward0>)\n"
     ]
    },
    {
     "name": "stderr",
     "output_type": "stream",
     "text": [
      "  1%|▏         | 21/1470 [00:01<01:51, 13.04it/s]"
     ]
    },
    {
     "name": "stdout",
     "output_type": "stream",
     "text": [
      "tensor(1.5142, device='cuda:0', grad_fn=<AddBackward0>)\n",
      "tensor(1.5753, device='cuda:0', grad_fn=<AddBackward0>)\n",
      "tensor(1.5686, device='cuda:0', grad_fn=<AddBackward0>)\n"
     ]
    },
    {
     "name": "stderr",
     "output_type": "stream",
     "text": [
      "  2%|▏         | 23/1470 [00:01<01:56, 12.38it/s]"
     ]
    },
    {
     "name": "stdout",
     "output_type": "stream",
     "text": [
      "tensor(1.4198, device='cuda:0', grad_fn=<AddBackward0>)\n",
      "tensor(1.3835, device='cuda:0', grad_fn=<AddBackward0>)\n",
      "tensor(1.5229, device='cuda:0', grad_fn=<AddBackward0>)\n"
     ]
    },
    {
     "name": "stderr",
     "output_type": "stream",
     "text": [
      "  2%|▏         | 27/1470 [00:02<01:54, 12.56it/s]"
     ]
    },
    {
     "name": "stdout",
     "output_type": "stream",
     "text": [
      "tensor(1.3830, device='cuda:0', grad_fn=<AddBackward0>)\n",
      "tensor(1.3659, device='cuda:0', grad_fn=<AddBackward0>)\n",
      "tensor(1.3752, device='cuda:0', grad_fn=<AddBackward0>)\n"
     ]
    },
    {
     "name": "stderr",
     "output_type": "stream",
     "text": [
      "  2%|▏         | 29/1470 [00:02<01:52, 12.83it/s]"
     ]
    },
    {
     "name": "stdout",
     "output_type": "stream",
     "text": [
      "tensor(1.3854, device='cuda:0', grad_fn=<AddBackward0>)\n",
      "tensor(1.2572, device='cuda:0', grad_fn=<AddBackward0>)\n",
      "tensor(1.3441, device='cuda:0', grad_fn=<AddBackward0>)\n"
     ]
    },
    {
     "name": "stderr",
     "output_type": "stream",
     "text": [
      "  2%|▏         | 33/1470 [00:02<01:49, 13.18it/s]"
     ]
    },
    {
     "name": "stdout",
     "output_type": "stream",
     "text": [
      "tensor(1.3061, device='cuda:0', grad_fn=<AddBackward0>)\n",
      "tensor(1.2749, device='cuda:0', grad_fn=<AddBackward0>)\n",
      "tensor(1.3322, device='cuda:0', grad_fn=<AddBackward0>)\n"
     ]
    },
    {
     "name": "stderr",
     "output_type": "stream",
     "text": [
      "  2%|▏         | 35/1470 [00:02<01:48, 13.28it/s]"
     ]
    },
    {
     "name": "stdout",
     "output_type": "stream",
     "text": [
      "tensor(1.2490, device='cuda:0', grad_fn=<AddBackward0>)\n",
      "tensor(1.2057, device='cuda:0', grad_fn=<AddBackward0>)\n",
      "tensor(1.3011, device='cuda:0', grad_fn=<AddBackward0>)\n"
     ]
    },
    {
     "name": "stderr",
     "output_type": "stream",
     "text": [
      "  3%|▎         | 39/1470 [00:03<01:54, 12.51it/s]"
     ]
    },
    {
     "name": "stdout",
     "output_type": "stream",
     "text": [
      "tensor(1.2355, device='cuda:0', grad_fn=<AddBackward0>)\n",
      "tensor(1.2429, device='cuda:0', grad_fn=<AddBackward0>)\n",
      "tensor(1.2414, device='cuda:0', grad_fn=<AddBackward0>)\n"
     ]
    },
    {
     "name": "stderr",
     "output_type": "stream",
     "text": [
      "  3%|▎         | 41/1470 [00:03<01:56, 12.22it/s]"
     ]
    },
    {
     "name": "stdout",
     "output_type": "stream",
     "text": [
      "tensor(1.1483, device='cuda:0', grad_fn=<AddBackward0>)\n",
      "tensor(1.3445, device='cuda:0', grad_fn=<AddBackward0>)\n",
      "tensor(1.1899, device='cuda:0', grad_fn=<AddBackward0>)\n"
     ]
    },
    {
     "name": "stderr",
     "output_type": "stream",
     "text": [
      "  3%|▎         | 45/1470 [00:03<01:58, 12.06it/s]"
     ]
    },
    {
     "name": "stdout",
     "output_type": "stream",
     "text": [
      "tensor(1.2159, device='cuda:0', grad_fn=<AddBackward0>)\n",
      "tensor(1.1672, device='cuda:0', grad_fn=<AddBackward0>)\n",
      "tensor(1.2384, device='cuda:0', grad_fn=<AddBackward0>)\n"
     ]
    },
    {
     "name": "stderr",
     "output_type": "stream",
     "text": [
      "  3%|▎         | 47/1470 [00:03<01:54, 12.38it/s]"
     ]
    },
    {
     "name": "stdout",
     "output_type": "stream",
     "text": [
      "tensor(1.3088, device='cuda:0', grad_fn=<AddBackward0>)\n",
      "tensor(1.1722, device='cuda:0', grad_fn=<AddBackward0>)\n",
      "tensor(1.2878, device='cuda:0', grad_fn=<AddBackward0>)\n"
     ]
    },
    {
     "name": "stderr",
     "output_type": "stream",
     "text": [
      "  3%|▎         | 51/1470 [00:04<01:56, 12.18it/s]"
     ]
    },
    {
     "name": "stdout",
     "output_type": "stream",
     "text": [
      "tensor(1.1521, device='cuda:0', grad_fn=<AddBackward0>)\n",
      "tensor(1.2720, device='cuda:0', grad_fn=<AddBackward0>)\n",
      "tensor(1.2424, device='cuda:0', grad_fn=<AddBackward0>)\n"
     ]
    },
    {
     "name": "stderr",
     "output_type": "stream",
     "text": [
      "  4%|▎         | 53/1470 [00:04<01:54, 12.38it/s]"
     ]
    },
    {
     "name": "stdout",
     "output_type": "stream",
     "text": [
      "tensor(1.1885, device='cuda:0', grad_fn=<AddBackward0>)\n",
      "tensor(1.1742, device='cuda:0', grad_fn=<AddBackward0>)\n",
      "tensor(1.2307, device='cuda:0', grad_fn=<AddBackward0>)\n"
     ]
    },
    {
     "name": "stderr",
     "output_type": "stream",
     "text": [
      "  4%|▍         | 57/1470 [00:04<01:49, 12.86it/s]"
     ]
    },
    {
     "name": "stdout",
     "output_type": "stream",
     "text": [
      "tensor(1.2046, device='cuda:0', grad_fn=<AddBackward0>)\n",
      "tensor(1.2080, device='cuda:0', grad_fn=<AddBackward0>)\n",
      "tensor(1.1473, device='cuda:0', grad_fn=<AddBackward0>)\n"
     ]
    },
    {
     "name": "stderr",
     "output_type": "stream",
     "text": [
      "  4%|▍         | 59/1470 [00:04<01:49, 12.86it/s]"
     ]
    },
    {
     "name": "stdout",
     "output_type": "stream",
     "text": [
      "tensor(1.1447, device='cuda:0', grad_fn=<AddBackward0>)\n",
      "tensor(1.2451, device='cuda:0', grad_fn=<AddBackward0>)\n",
      "tensor(1.1812, device='cuda:0', grad_fn=<AddBackward0>)\n"
     ]
    },
    {
     "name": "stderr",
     "output_type": "stream",
     "text": [
      "  4%|▍         | 63/1470 [00:05<01:59, 11.80it/s]"
     ]
    },
    {
     "name": "stdout",
     "output_type": "stream",
     "text": [
      "tensor(1.1860, device='cuda:0', grad_fn=<AddBackward0>)\n",
      "tensor(1.4174, device='cuda:0', grad_fn=<AddBackward0>)\n",
      "tensor(1.1860, device='cuda:0', grad_fn=<AddBackward0>)\n"
     ]
    },
    {
     "name": "stderr",
     "output_type": "stream",
     "text": [
      "  4%|▍         | 65/1470 [00:05<01:56, 12.09it/s]"
     ]
    },
    {
     "name": "stdout",
     "output_type": "stream",
     "text": [
      "tensor(1.1983, device='cuda:0', grad_fn=<AddBackward0>)\n",
      "tensor(1.1934, device='cuda:0', grad_fn=<AddBackward0>)\n",
      "tensor(1.1914, device='cuda:0', grad_fn=<AddBackward0>)\n"
     ]
    },
    {
     "name": "stderr",
     "output_type": "stream",
     "text": [
      "  5%|▍         | 69/1470 [00:05<01:55, 12.09it/s]"
     ]
    },
    {
     "name": "stdout",
     "output_type": "stream",
     "text": [
      "tensor(1.1286, device='cuda:0', grad_fn=<AddBackward0>)\n",
      "tensor(1.2208, device='cuda:0', grad_fn=<AddBackward0>)\n",
      "tensor(1.1724, device='cuda:0', grad_fn=<AddBackward0>)\n"
     ]
    },
    {
     "name": "stderr",
     "output_type": "stream",
     "text": [
      "  5%|▍         | 71/1470 [00:05<01:54, 12.19it/s]"
     ]
    },
    {
     "name": "stdout",
     "output_type": "stream",
     "text": [
      "tensor(1.1364, device='cuda:0', grad_fn=<AddBackward0>)\n",
      "tensor(1.2474, device='cuda:0', grad_fn=<AddBackward0>)\n",
      "tensor(1.1365, device='cuda:0', grad_fn=<AddBackward0>)\n"
     ]
    },
    {
     "name": "stderr",
     "output_type": "stream",
     "text": [
      "  5%|▌         | 75/1470 [00:06<01:58, 11.81it/s]"
     ]
    },
    {
     "name": "stdout",
     "output_type": "stream",
     "text": [
      "tensor(1.2432, device='cuda:0', grad_fn=<AddBackward0>)\n",
      "tensor(1.1601, device='cuda:0', grad_fn=<AddBackward0>)\n",
      "tensor(1.1360, device='cuda:0', grad_fn=<AddBackward0>)\n"
     ]
    },
    {
     "name": "stderr",
     "output_type": "stream",
     "text": [
      "  5%|▌         | 77/1470 [00:06<01:54, 12.13it/s]"
     ]
    },
    {
     "name": "stdout",
     "output_type": "stream",
     "text": [
      "tensor(1.1401, device='cuda:0', grad_fn=<AddBackward0>)\n",
      "tensor(1.1272, device='cuda:0', grad_fn=<AddBackward0>)\n",
      "tensor(1.1751, device='cuda:0', grad_fn=<AddBackward0>)\n"
     ]
    },
    {
     "name": "stderr",
     "output_type": "stream",
     "text": [
      "  6%|▌         | 81/1470 [00:06<01:52, 12.32it/s]"
     ]
    },
    {
     "name": "stdout",
     "output_type": "stream",
     "text": [
      "tensor(1.1082, device='cuda:0', grad_fn=<AddBackward0>)\n",
      "tensor(1.1859, device='cuda:0', grad_fn=<AddBackward0>)\n",
      "tensor(1.2003, device='cuda:0', grad_fn=<AddBackward0>)\n"
     ]
    },
    {
     "name": "stderr",
     "output_type": "stream",
     "text": [
      "  6%|▌         | 83/1470 [00:06<01:54, 12.09it/s]"
     ]
    },
    {
     "name": "stdout",
     "output_type": "stream",
     "text": [
      "tensor(1.1536, device='cuda:0', grad_fn=<AddBackward0>)\n",
      "tensor(1.1555, device='cuda:0', grad_fn=<AddBackward0>)\n",
      "tensor(1.1808, device='cuda:0', grad_fn=<AddBackward0>)\n"
     ]
    },
    {
     "name": "stderr",
     "output_type": "stream",
     "text": [
      "  6%|▌         | 87/1470 [00:07<01:54, 12.03it/s]"
     ]
    },
    {
     "name": "stdout",
     "output_type": "stream",
     "text": [
      "tensor(1.1401, device='cuda:0', grad_fn=<AddBackward0>)\n",
      "tensor(1.4463, device='cuda:0', grad_fn=<AddBackward0>)\n",
      "tensor(1.1816, device='cuda:0', grad_fn=<AddBackward0>)\n"
     ]
    },
    {
     "name": "stderr",
     "output_type": "stream",
     "text": [
      "  6%|▌         | 89/1470 [00:07<01:54, 12.04it/s]"
     ]
    },
    {
     "name": "stdout",
     "output_type": "stream",
     "text": [
      "tensor(1.1996, device='cuda:0', grad_fn=<AddBackward0>)\n",
      "tensor(1.1548, device='cuda:0', grad_fn=<AddBackward0>)\n"
     ]
    },
    {
     "name": "stderr",
     "output_type": "stream",
     "text": [
      "\n"
     ]
    },
    {
     "ename": "KeyboardInterrupt",
     "evalue": "",
     "output_type": "error",
     "traceback": [
      "\u001b[0;31m---------------------------------------------------------------------------\u001b[0m",
      "\u001b[0;31mKeyboardInterrupt\u001b[0m                         Traceback (most recent call last)",
      "\u001b[0;32m<ipython-input-5-22437a1cf29d>\u001b[0m in \u001b[0;36m<module>\u001b[0;34m\u001b[0m\n\u001b[1;32m      5\u001b[0m \u001b[0msolver\u001b[0m \u001b[0;34m=\u001b[0m \u001b[0mSolver\u001b[0m\u001b[0;34m(\u001b[0m\u001b[0moptim_args\u001b[0m\u001b[0;34m=\u001b[0m\u001b[0;34m{\u001b[0m\u001b[0;34m\"lr\"\u001b[0m\u001b[0;34m:\u001b[0m \u001b[0;36m1e-2\u001b[0m\u001b[0;34m}\u001b[0m\u001b[0;34m)\u001b[0m\u001b[0;34m\u001b[0m\u001b[0;34m\u001b[0m\u001b[0m\n\u001b[1;32m      6\u001b[0m \u001b[0;34m\u001b[0m\u001b[0m\n\u001b[0;32m----> 7\u001b[0;31m \u001b[0msolver\u001b[0m\u001b[0;34m.\u001b[0m\u001b[0mtrain\u001b[0m\u001b[0;34m(\u001b[0m\u001b[0mrelaynet_model\u001b[0m\u001b[0;34m,\u001b[0m \u001b[0mtrain_loader\u001b[0m\u001b[0;34m,\u001b[0m \u001b[0mval_loader\u001b[0m\u001b[0;34m,\u001b[0m \u001b[0mmodel_path\u001b[0m\u001b[0;34m,\u001b[0m \u001b[0mlog_nth\u001b[0m\u001b[0;34m=\u001b[0m\u001b[0;36m1\u001b[0m\u001b[0;34m,\u001b[0m \u001b[0mnum_epochs\u001b[0m\u001b[0;34m=\u001b[0m\u001b[0;36m20\u001b[0m\u001b[0;34m,\u001b[0m \u001b[0mexp_dir_name\u001b[0m\u001b[0;34m=\u001b[0m\u001b[0mexp_dir_name\u001b[0m\u001b[0;34m)\u001b[0m\u001b[0;34m\u001b[0m\u001b[0;34m\u001b[0m\u001b[0m\n\u001b[0m",
      "\u001b[0;32m/data/ongz0070/01_OCTseg/relaynet/relaynet_pytorch/src/networks/solver.py\u001b[0m in \u001b[0;36mtrain\u001b[0;34m(self, model, train_loader, val_loader, model_path, num_epochs, log_nth, exp_dir_name)\u001b[0m\n\u001b[1;32m    103\u001b[0m                 \u001b[0moutput\u001b[0m \u001b[0;34m=\u001b[0m \u001b[0mmodel\u001b[0m\u001b[0;34m(\u001b[0m\u001b[0mX\u001b[0m\u001b[0;34m)\u001b[0m\u001b[0;34m\u001b[0m\u001b[0;34m\u001b[0m\u001b[0m\n\u001b[1;32m    104\u001b[0m                 \u001b[0mloss\u001b[0m \u001b[0;34m=\u001b[0m \u001b[0mself\u001b[0m\u001b[0;34m.\u001b[0m\u001b[0mloss_func\u001b[0m\u001b[0;34m(\u001b[0m\u001b[0moutput\u001b[0m\u001b[0;34m,\u001b[0m \u001b[0my\u001b[0m\u001b[0;34m,\u001b[0m \u001b[0mw\u001b[0m\u001b[0;34m)\u001b[0m\u001b[0;34m\u001b[0m\u001b[0;34m\u001b[0m\u001b[0m\n\u001b[0;32m--> 105\u001b[0;31m                 \u001b[0mloss\u001b[0m\u001b[0;34m.\u001b[0m\u001b[0mbackward\u001b[0m\u001b[0;34m(\u001b[0m\u001b[0;34m)\u001b[0m\u001b[0;34m\u001b[0m\u001b[0;34m\u001b[0m\u001b[0m\n\u001b[0m\u001b[1;32m    106\u001b[0m                 \u001b[0moptim\u001b[0m\u001b[0;34m.\u001b[0m\u001b[0mstep\u001b[0m\u001b[0;34m(\u001b[0m\u001b[0;34m)\u001b[0m\u001b[0;34m\u001b[0m\u001b[0;34m\u001b[0m\u001b[0m\n\u001b[1;32m    107\u001b[0m                 \u001b[0m_\u001b[0m\u001b[0;34m,\u001b[0m\u001b[0mbatch_output\u001b[0m \u001b[0;34m=\u001b[0m\u001b[0mtorch\u001b[0m\u001b[0;34m.\u001b[0m\u001b[0mmax\u001b[0m\u001b[0;34m(\u001b[0m\u001b[0mF\u001b[0m\u001b[0;34m.\u001b[0m\u001b[0msoftmax\u001b[0m\u001b[0;34m(\u001b[0m\u001b[0moutput\u001b[0m\u001b[0;34m,\u001b[0m \u001b[0mdim\u001b[0m\u001b[0;34m=\u001b[0m\u001b[0;36m1\u001b[0m\u001b[0;34m)\u001b[0m\u001b[0;34m,\u001b[0m \u001b[0mdim\u001b[0m\u001b[0;34m=\u001b[0m\u001b[0;36m1\u001b[0m\u001b[0;34m)\u001b[0m\u001b[0;34m\u001b[0m\u001b[0;34m\u001b[0m\u001b[0m\n",
      "\u001b[0;32m~/.local/share/virtualenvs/relaynet-GEL98iGU/lib/python3.6/site-packages/torch/tensor.py\u001b[0m in \u001b[0;36mbackward\u001b[0;34m(self, gradient, retain_graph, create_graph)\u001b[0m\n\u001b[1;32m    105\u001b[0m                 \u001b[0mproducts\u001b[0m\u001b[0;34m.\u001b[0m \u001b[0mDefaults\u001b[0m \u001b[0mto\u001b[0m\u001b[0;31m \u001b[0m\u001b[0;31m`\u001b[0m\u001b[0;31m`\u001b[0m\u001b[0;32mFalse\u001b[0m\u001b[0;31m`\u001b[0m\u001b[0;31m`\u001b[0m\u001b[0;34m.\u001b[0m\u001b[0;34m\u001b[0m\u001b[0;34m\u001b[0m\u001b[0m\n\u001b[1;32m    106\u001b[0m         \"\"\"\n\u001b[0;32m--> 107\u001b[0;31m         \u001b[0mtorch\u001b[0m\u001b[0;34m.\u001b[0m\u001b[0mautograd\u001b[0m\u001b[0;34m.\u001b[0m\u001b[0mbackward\u001b[0m\u001b[0;34m(\u001b[0m\u001b[0mself\u001b[0m\u001b[0;34m,\u001b[0m \u001b[0mgradient\u001b[0m\u001b[0;34m,\u001b[0m \u001b[0mretain_graph\u001b[0m\u001b[0;34m,\u001b[0m \u001b[0mcreate_graph\u001b[0m\u001b[0;34m)\u001b[0m\u001b[0;34m\u001b[0m\u001b[0;34m\u001b[0m\u001b[0m\n\u001b[0m\u001b[1;32m    108\u001b[0m \u001b[0;34m\u001b[0m\u001b[0m\n\u001b[1;32m    109\u001b[0m     \u001b[0;32mdef\u001b[0m \u001b[0mregister_hook\u001b[0m\u001b[0;34m(\u001b[0m\u001b[0mself\u001b[0m\u001b[0;34m,\u001b[0m \u001b[0mhook\u001b[0m\u001b[0;34m)\u001b[0m\u001b[0;34m:\u001b[0m\u001b[0;34m\u001b[0m\u001b[0;34m\u001b[0m\u001b[0m\n",
      "\u001b[0;32m~/.local/share/virtualenvs/relaynet-GEL98iGU/lib/python3.6/site-packages/torch/autograd/__init__.py\u001b[0m in \u001b[0;36mbackward\u001b[0;34m(tensors, grad_tensors, retain_graph, create_graph, grad_variables)\u001b[0m\n\u001b[1;32m     91\u001b[0m     Variable._execution_engine.run_backward(\n\u001b[1;32m     92\u001b[0m         \u001b[0mtensors\u001b[0m\u001b[0;34m,\u001b[0m \u001b[0mgrad_tensors\u001b[0m\u001b[0;34m,\u001b[0m \u001b[0mretain_graph\u001b[0m\u001b[0;34m,\u001b[0m \u001b[0mcreate_graph\u001b[0m\u001b[0;34m,\u001b[0m\u001b[0;34m\u001b[0m\u001b[0;34m\u001b[0m\u001b[0m\n\u001b[0;32m---> 93\u001b[0;31m         allow_unreachable=True)  # allow_unreachable flag\n\u001b[0m\u001b[1;32m     94\u001b[0m \u001b[0;34m\u001b[0m\u001b[0m\n\u001b[1;32m     95\u001b[0m \u001b[0;34m\u001b[0m\u001b[0m\n",
      "\u001b[0;31mKeyboardInterrupt\u001b[0m: "
     ]
    }
   ],
   "source": [
    "\n",
    "train_loader = torch.utils.data.DataLoader(train_dataset, batch_size=4, shuffle=True, num_workers=4)\n",
    "val_loader = torch.utils.data.DataLoader(val_dataset, batch_size=4, shuffle=False, num_workers=4)\n",
    "\n",
    "relaynet_model = ReLayNet(param)\n",
    "solver = Solver(optim_args={\"lr\": 1e-2})\n",
    "        \n",
    "solver.train(relaynet_model, train_loader, val_loader, model_path, log_nth=1, num_epochs=20, exp_dir_name=exp_dir_name)"
   ]
  },
  {
   "cell_type": "code",
   "execution_count": null,
   "id": "65ccbff6-097f-4d1a-91ff-8da1455b5d68",
   "metadata": {},
   "outputs": [],
   "source": []
  }
 ],
 "metadata": {
  "kernelspec": {
   "display_name": "Python 3",
   "language": "python",
   "name": "python3"
  },
  "language_info": {
   "codemirror_mode": {
    "name": "ipython",
    "version": 3
   },
   "file_extension": ".py",
   "mimetype": "text/x-python",
   "name": "python",
   "nbconvert_exporter": "python",
   "pygments_lexer": "ipython3",
   "version": "3.6.13"
  }
 },
 "nbformat": 4,
 "nbformat_minor": 5
}
